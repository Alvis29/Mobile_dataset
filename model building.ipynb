{
 "cells": [
  {
   "cell_type": "markdown",
   "metadata": {},
   "source": [
    "# Model Building"
   ]
  },
  {
   "cell_type": "code",
   "execution_count": null,
   "metadata": {},
   "outputs": [],
   "source": []
  },
  {
   "cell_type": "markdown",
   "metadata": {},
   "source": [
    "### Import libraries"
   ]
  },
  {
   "cell_type": "code",
   "execution_count": 22,
   "metadata": {},
   "outputs": [],
   "source": [
    "import numpy as np\n",
    "import pandas as pd\n",
    "import matplotlib.pyplot as plt\n",
    "import seaborn as sns\n",
    "import warnings\n",
    "\n",
    "%matplotlib inline \n",
    "warnings.filterwarnings('ignore')\n",
    "pd.set_option('display.max_columns',None)\n",
    "sns.set_style('darkgrid')"
   ]
  },
  {
   "cell_type": "markdown",
   "metadata": {},
   "source": [
    "### Load data into dataframe"
   ]
  },
  {
   "cell_type": "code",
   "execution_count": 23,
   "metadata": {},
   "outputs": [
    {
     "data": {
      "text/html": [
       "<div>\n",
       "<style scoped>\n",
       "    .dataframe tbody tr th:only-of-type {\n",
       "        vertical-align: middle;\n",
       "    }\n",
       "\n",
       "    .dataframe tbody tr th {\n",
       "        vertical-align: top;\n",
       "    }\n",
       "\n",
       "    .dataframe thead th {\n",
       "        text-align: right;\n",
       "    }\n",
       "</style>\n",
       "<table border=\"1\" class=\"dataframe\">\n",
       "  <thead>\n",
       "    <tr style=\"text-align: right;\">\n",
       "      <th></th>\n",
       "      <th>battery_power</th>\n",
       "      <th>clock_speed</th>\n",
       "      <th>fc</th>\n",
       "      <th>int_memory</th>\n",
       "      <th>m_dep</th>\n",
       "      <th>mobile_wt</th>\n",
       "      <th>n_cores</th>\n",
       "      <th>pc</th>\n",
       "      <th>px_height</th>\n",
       "      <th>px_width</th>\n",
       "      <th>ram</th>\n",
       "      <th>sc_h</th>\n",
       "      <th>sc_w</th>\n",
       "      <th>talk_time</th>\n",
       "      <th>price_range</th>\n",
       "    </tr>\n",
       "  </thead>\n",
       "  <tbody>\n",
       "    <tr>\n",
       "      <th>0</th>\n",
       "      <td>842</td>\n",
       "      <td>2.2</td>\n",
       "      <td>1</td>\n",
       "      <td>7</td>\n",
       "      <td>0.6</td>\n",
       "      <td>188</td>\n",
       "      <td>2</td>\n",
       "      <td>2</td>\n",
       "      <td>20</td>\n",
       "      <td>756</td>\n",
       "      <td>2549</td>\n",
       "      <td>9</td>\n",
       "      <td>7</td>\n",
       "      <td>19</td>\n",
       "      <td>1</td>\n",
       "    </tr>\n",
       "    <tr>\n",
       "      <th>1</th>\n",
       "      <td>1021</td>\n",
       "      <td>0.5</td>\n",
       "      <td>0</td>\n",
       "      <td>53</td>\n",
       "      <td>0.7</td>\n",
       "      <td>136</td>\n",
       "      <td>3</td>\n",
       "      <td>6</td>\n",
       "      <td>905</td>\n",
       "      <td>1988</td>\n",
       "      <td>2631</td>\n",
       "      <td>17</td>\n",
       "      <td>3</td>\n",
       "      <td>7</td>\n",
       "      <td>2</td>\n",
       "    </tr>\n",
       "    <tr>\n",
       "      <th>2</th>\n",
       "      <td>563</td>\n",
       "      <td>0.5</td>\n",
       "      <td>2</td>\n",
       "      <td>41</td>\n",
       "      <td>0.9</td>\n",
       "      <td>145</td>\n",
       "      <td>5</td>\n",
       "      <td>6</td>\n",
       "      <td>1263</td>\n",
       "      <td>1716</td>\n",
       "      <td>2603</td>\n",
       "      <td>11</td>\n",
       "      <td>2</td>\n",
       "      <td>9</td>\n",
       "      <td>2</td>\n",
       "    </tr>\n",
       "    <tr>\n",
       "      <th>3</th>\n",
       "      <td>615</td>\n",
       "      <td>2.5</td>\n",
       "      <td>0</td>\n",
       "      <td>10</td>\n",
       "      <td>0.8</td>\n",
       "      <td>131</td>\n",
       "      <td>6</td>\n",
       "      <td>9</td>\n",
       "      <td>1216</td>\n",
       "      <td>1786</td>\n",
       "      <td>2769</td>\n",
       "      <td>16</td>\n",
       "      <td>8</td>\n",
       "      <td>11</td>\n",
       "      <td>2</td>\n",
       "    </tr>\n",
       "    <tr>\n",
       "      <th>4</th>\n",
       "      <td>1821</td>\n",
       "      <td>1.2</td>\n",
       "      <td>13</td>\n",
       "      <td>44</td>\n",
       "      <td>0.6</td>\n",
       "      <td>141</td>\n",
       "      <td>2</td>\n",
       "      <td>14</td>\n",
       "      <td>1208</td>\n",
       "      <td>1212</td>\n",
       "      <td>1411</td>\n",
       "      <td>8</td>\n",
       "      <td>2</td>\n",
       "      <td>15</td>\n",
       "      <td>1</td>\n",
       "    </tr>\n",
       "  </tbody>\n",
       "</table>\n",
       "</div>"
      ],
      "text/plain": [
       "   battery_power  clock_speed  fc  int_memory  m_dep  mobile_wt  n_cores  pc  \\\n",
       "0            842          2.2   1           7    0.6        188        2   2   \n",
       "1           1021          0.5   0          53    0.7        136        3   6   \n",
       "2            563          0.5   2          41    0.9        145        5   6   \n",
       "3            615          2.5   0          10    0.8        131        6   9   \n",
       "4           1821          1.2  13          44    0.6        141        2  14   \n",
       "\n",
       "   px_height  px_width   ram  sc_h  sc_w  talk_time  price_range  \n",
       "0         20       756  2549     9     7         19            1  \n",
       "1        905      1988  2631    17     3          7            2  \n",
       "2       1263      1716  2603    11     2          9            2  \n",
       "3       1216      1786  2769    16     8         11            2  \n",
       "4       1208      1212  1411     8     2         15            1  "
      ]
     },
     "execution_count": 23,
     "metadata": {},
     "output_type": "execute_result"
    }
   ],
   "source": [
    "data = pd.read_csv('Mobile_data.csv',header=0)\n",
    "data.head()"
   ]
  },
  {
   "cell_type": "markdown",
   "metadata": {},
   "source": [
    "### Check Shape of the dataframe"
   ]
  },
  {
   "cell_type": "code",
   "execution_count": 24,
   "metadata": {},
   "outputs": [
    {
     "data": {
      "text/plain": [
       "(2000, 15)"
      ]
     },
     "execution_count": 24,
     "metadata": {},
     "output_type": "execute_result"
    }
   ],
   "source": [
    "data.shape"
   ]
  },
  {
   "cell_type": "markdown",
   "metadata": {},
   "source": [
    "### Copy of the data"
   ]
  },
  {
   "cell_type": "code",
   "execution_count": 25,
   "metadata": {},
   "outputs": [
    {
     "data": {
      "text/plain": [
       "(2000, 15)"
      ]
     },
     "execution_count": 25,
     "metadata": {},
     "output_type": "execute_result"
    }
   ],
   "source": [
    "df = data.copy(deep =True)\n",
    "df.shape"
   ]
  },
  {
   "cell_type": "markdown",
   "metadata": {},
   "source": [
    "### Check for NULL values and value countes in the target variable"
   ]
  },
  {
   "cell_type": "code",
   "execution_count": 26,
   "metadata": {},
   "outputs": [
    {
     "data": {
      "text/plain": [
       "0"
      ]
     },
     "execution_count": 26,
     "metadata": {},
     "output_type": "execute_result"
    }
   ],
   "source": [
    "df['price_range'].isnull().sum()"
   ]
  },
  {
   "cell_type": "code",
   "execution_count": 27,
   "metadata": {},
   "outputs": [
    {
     "data": {
      "text/plain": [
       "1    500\n",
       "2    500\n",
       "3    500\n",
       "0    500\n",
       "Name: price_range, dtype: int64"
      ]
     },
     "execution_count": 27,
     "metadata": {},
     "output_type": "execute_result"
    }
   ],
   "source": [
    "df['price_range'].value_counts()"
   ]
  },
  {
   "cell_type": "code",
   "execution_count": 28,
   "metadata": {},
   "outputs": [
    {
     "name": "stdout",
     "output_type": "stream",
     "text": [
      "(2000, 14)\n",
      "(2000,)\n"
     ]
    }
   ],
   "source": [
    "X = df.drop('price_range',axis=1)\n",
    "y = df.price_range\n",
    "print(X.shape)\n",
    "print(y.shape)"
   ]
  },
  {
   "cell_type": "code",
   "execution_count": 29,
   "metadata": {},
   "outputs": [
    {
     "name": "stdout",
     "output_type": "stream",
     "text": [
      "(1600, 14)\n",
      "(1600,)\n",
      "(400, 14)\n",
      "(400,)\n"
     ]
    }
   ],
   "source": [
    "from sklearn.model_selection import train_test_split\n",
    "X_train ,X_test ,y_train ,y_test = train_test_split(X,y , test_size=0.2 ,random_state=42 ,stratify=y)\n",
    "print(X_train.shape)\n",
    "print(y_train.shape)\n",
    "print(X_test.shape)\n",
    "print(y_test.shape)"
   ]
  },
  {
   "cell_type": "markdown",
   "metadata": {},
   "source": [
    "### prepare the training data "
   ]
  },
  {
   "cell_type": "markdown",
   "metadata": {},
   "source": [
    "1. Check with the outliers"
   ]
  },
  {
   "cell_type": "code",
   "execution_count": 32,
   "metadata": {},
   "outputs": [
    {
     "data": {
      "image/png": "[encoded data removed]",
      "text/plain": [
       "<Figure size 1500x2500 with 14 Axes>"
      ]
     },
     "metadata": {},
     "output_type": "display_data"
    }
   ],
   "source": [
    "# Determine the number of columns in the DataFrame\n",
    "num_columns = len(X_train.columns.values)\n",
    "\n",
    "# Calculate the number of rows required for subplots\n",
    "num_rows = (num_columns + 2) // 3  # Add 2 to handle uneven number of columns\n",
    "\n",
    "# Set up the subplot grid\n",
    "fig, axes = plt.subplots(nrows=num_rows, ncols=3, figsize=(15, 5*num_rows))\n",
    "\n",
    "# Flatten the axes array\n",
    "axes = axes.flatten()\n",
    "\n",
    "# Plot boxplots for each column\n",
    "for i, column in enumerate(X_train.columns.values):\n",
    "    sns.boxplot(ax=axes[i], data=X_train, x = column, color='skyblue')\n",
    "    axes[i].set_title(column)\n",
    "    axes[i].set_xlabel('')\n",
    "\n",
    "# Remove empty subplots if present\n",
    "if num_columns < len(axes):\n",
    "    for j in range(num_columns, len(axes)):\n",
    "        fig.delaxes(axes[j])\n",
    "\n",
    "plt.tight_layout()\n",
    "plt.show()\n"
   ]
  },
  {
   "cell_type": "markdown",
   "metadata": {},
   "source": [
    "there are no logical outliers in the training dataset ..but there are outliers in columns 'fc' and 'px_height'"
   ]
  },
  {
   "cell_type": "code",
   "execution_count": null,
   "metadata": {},
   "outputs": [],
   "source": []
  },
  {
   "cell_type": "markdown",
   "metadata": {},
   "source": [
    "2. Deal with the null values"
   ]
  },
  {
   "cell_type": "code",
   "execution_count": 30,
   "metadata": {},
   "outputs": [],
   "source": [
    "for i in ['fc' , 'pc' , 'px_height' , 'sc_w'] :\n",
    "    X_train[i] = X_train[i].replace(0, np.nan)"
   ]
  },
  {
   "cell_type": "code",
   "execution_count": 31,
   "metadata": {},
   "outputs": [
    {
     "data": {
      "text/html": [
       "<div>\n",
       "<style scoped>\n",
       "    .dataframe tbody tr th:only-of-type {\n",
       "        vertical-align: middle;\n",
       "    }\n",
       "\n",
       "    .dataframe tbody tr th {\n",
       "        vertical-align: top;\n",
       "    }\n",
       "\n",
       "    .dataframe thead th {\n",
       "        text-align: right;\n",
       "    }\n",
       "</style>\n",
       "<table border=\"1\" class=\"dataframe\">\n",
       "  <thead>\n",
       "    <tr style=\"text-align: right;\">\n",
       "      <th></th>\n",
       "      <th>features</th>\n",
       "      <th>null values</th>\n",
       "      <th>%null values</th>\n",
       "    </tr>\n",
       "  </thead>\n",
       "  <tbody>\n",
       "    <tr>\n",
       "      <th>0</th>\n",
       "      <td>fc</td>\n",
       "      <td>372</td>\n",
       "      <td>23.2500</td>\n",
       "    </tr>\n",
       "    <tr>\n",
       "      <th>1</th>\n",
       "      <td>pc</td>\n",
       "      <td>82</td>\n",
       "      <td>5.1250</td>\n",
       "    </tr>\n",
       "    <tr>\n",
       "      <th>2</th>\n",
       "      <td>px_height</td>\n",
       "      <td>1</td>\n",
       "      <td>0.0625</td>\n",
       "    </tr>\n",
       "    <tr>\n",
       "      <th>3</th>\n",
       "      <td>sc_w</td>\n",
       "      <td>144</td>\n",
       "      <td>9.0000</td>\n",
       "    </tr>\n",
       "  </tbody>\n",
       "</table>\n",
       "</div>"
      ],
      "text/plain": [
       "    features  null values  %null values\n",
       "0         fc          372       23.2500\n",
       "1         pc           82        5.1250\n",
       "2  px_height            1        0.0625\n",
       "3       sc_w          144        9.0000"
      ]
     },
     "execution_count": 31,
     "metadata": {},
     "output_type": "execute_result"
    }
   ],
   "source": [
    "temp=pd.DataFrame(X_train.isnull().sum()[X_train.isnull().sum()>0])\n",
    "temp.reset_index(drop=False,inplace=True)\n",
    "temp.columns =['features','null values']\n",
    "\n",
    "temp['%null values'] = np.round(temp['null values']/len(X_train)*100,4)\n",
    "temp"
   ]
  },
  {
   "cell_type": "code",
   "execution_count": 33,
   "metadata": {},
   "outputs": [
    {
     "data": {
      "text/plain": [
       "0"
      ]
     },
     "execution_count": 33,
     "metadata": {},
     "output_type": "execute_result"
    }
   ],
   "source": [
    "for col in X_train.columns.values:\n",
    "    X_train[col].fillna(value = X_train[col].median(),inplace =True)\n",
    "\n",
    "X_train.isnull().sum().sum()"
   ]
  },
  {
   "cell_type": "code",
   "execution_count": null,
   "metadata": {},
   "outputs": [],
   "source": []
  },
  {
   "cell_type": "markdown",
   "metadata": {},
   "source": [
    "3. Deal with the outliers"
   ]
  },
  {
   "cell_type": "code",
   "execution_count": 34,
   "metadata": {},
   "outputs": [
    {
     "data": {
      "text/html": [
       "<div>\n",
       "<style scoped>\n",
       "    .dataframe tbody tr th:only-of-type {\n",
       "        vertical-align: middle;\n",
       "    }\n",
       "\n",
       "    .dataframe tbody tr th {\n",
       "        vertical-align: top;\n",
       "    }\n",
       "\n",
       "    .dataframe thead th {\n",
       "        text-align: right;\n",
       "    }\n",
       "</style>\n",
       "<table border=\"1\" class=\"dataframe\">\n",
       "  <thead>\n",
       "    <tr style=\"text-align: right;\">\n",
       "      <th></th>\n",
       "      <th>battery_power</th>\n",
       "      <th>clock_speed</th>\n",
       "      <th>fc</th>\n",
       "      <th>int_memory</th>\n",
       "      <th>m_dep</th>\n",
       "      <th>mobile_wt</th>\n",
       "      <th>n_cores</th>\n",
       "      <th>pc</th>\n",
       "      <th>px_height</th>\n",
       "      <th>px_width</th>\n",
       "      <th>ram</th>\n",
       "      <th>sc_h</th>\n",
       "      <th>sc_w</th>\n",
       "      <th>talk_time</th>\n",
       "    </tr>\n",
       "  </thead>\n",
       "  <tbody>\n",
       "    <tr>\n",
       "      <th>469</th>\n",
       "      <td>1845</td>\n",
       "      <td>0.5</td>\n",
       "      <td>10.0</td>\n",
       "      <td>61</td>\n",
       "      <td>0.3</td>\n",
       "      <td>96</td>\n",
       "      <td>1</td>\n",
       "      <td>12.0</td>\n",
       "      <td>292.0</td>\n",
       "      <td>695</td>\n",
       "      <td>1731</td>\n",
       "      <td>9</td>\n",
       "      <td>5.0</td>\n",
       "      <td>6</td>\n",
       "    </tr>\n",
       "    <tr>\n",
       "      <th>565</th>\n",
       "      <td>1271</td>\n",
       "      <td>0.5</td>\n",
       "      <td>12.0</td>\n",
       "      <td>32</td>\n",
       "      <td>0.1</td>\n",
       "      <td>113</td>\n",
       "      <td>7</td>\n",
       "      <td>15.0</td>\n",
       "      <td>1350.0</td>\n",
       "      <td>1949</td>\n",
       "      <td>445</td>\n",
       "      <td>15</td>\n",
       "      <td>14.0</td>\n",
       "      <td>14</td>\n",
       "    </tr>\n",
       "    <tr>\n",
       "      <th>396</th>\n",
       "      <td>788</td>\n",
       "      <td>2.5</td>\n",
       "      <td>4.0</td>\n",
       "      <td>57</td>\n",
       "      <td>0.9</td>\n",
       "      <td>91</td>\n",
       "      <td>8</td>\n",
       "      <td>12.0</td>\n",
       "      <td>42.0</td>\n",
       "      <td>1161</td>\n",
       "      <td>3969</td>\n",
       "      <td>12</td>\n",
       "      <td>8.0</td>\n",
       "      <td>6</td>\n",
       "    </tr>\n",
       "    <tr>\n",
       "      <th>452</th>\n",
       "      <td>1406</td>\n",
       "      <td>0.5</td>\n",
       "      <td>2.0</td>\n",
       "      <td>34</td>\n",
       "      <td>0.8</td>\n",
       "      <td>98</td>\n",
       "      <td>3</td>\n",
       "      <td>5.0</td>\n",
       "      <td>1017.0</td>\n",
       "      <td>1366</td>\n",
       "      <td>3915</td>\n",
       "      <td>9</td>\n",
       "      <td>8.0</td>\n",
       "      <td>2</td>\n",
       "    </tr>\n",
       "    <tr>\n",
       "      <th>325</th>\n",
       "      <td>920</td>\n",
       "      <td>2.1</td>\n",
       "      <td>5.0</td>\n",
       "      <td>25</td>\n",
       "      <td>0.4</td>\n",
       "      <td>115</td>\n",
       "      <td>7</td>\n",
       "      <td>14.0</td>\n",
       "      <td>209.0</td>\n",
       "      <td>1078</td>\n",
       "      <td>785</td>\n",
       "      <td>10</td>\n",
       "      <td>7.0</td>\n",
       "      <td>5</td>\n",
       "    </tr>\n",
       "  </tbody>\n",
       "</table>\n",
       "</div>"
      ],
      "text/plain": [
       "     battery_power  clock_speed    fc  int_memory  m_dep  mobile_wt  n_cores  \\\n",
       "469           1845          0.5  10.0          61    0.3         96        1   \n",
       "565           1271          0.5  12.0          32    0.1        113        7   \n",
       "396            788          2.5   4.0          57    0.9         91        8   \n",
       "452           1406          0.5   2.0          34    0.8         98        3   \n",
       "325            920          2.1   5.0          25    0.4        115        7   \n",
       "\n",
       "       pc  px_height  px_width   ram  sc_h  sc_w  talk_time  \n",
       "469  12.0      292.0       695  1731     9   5.0          6  \n",
       "565  15.0     1350.0      1949   445    15  14.0         14  \n",
       "396  12.0       42.0      1161  3969    12   8.0          6  \n",
       "452   5.0     1017.0      1366  3915     9   8.0          2  \n",
       "325  14.0      209.0      1078   785    10   7.0          5  "
      ]
     },
     "execution_count": 34,
     "metadata": {},
     "output_type": "execute_result"
    }
   ],
   "source": [
    "# Specify the columns that need outlier treatment\n",
    "columns_to_treat = X_train.columns\n",
    "\n",
    "# Function to treat outliers using Tukey's method\n",
    "def treat_outliers(data, column):\n",
    "    q1 = data[column].quantile(0.25)\n",
    "    q3 = data[column].quantile(0.75)\n",
    "    iqr = q3 - q1\n",
    "    lower_bound = q1 - 1.5 * iqr\n",
    "    upper_bound = q3 + 1.5 * iqr\n",
    "    data[column] = data[column].clip(lower=lower_bound, upper=upper_bound)\n",
    "\n",
    "# Treat outliers for the specified columns\n",
    "for column in columns_to_treat:\n",
    "    treat_outliers(X_train, column)\n",
    "\n",
    "# Check the updated DataFrame\n",
    "X_train.head()\n"
   ]
  },
  {
   "cell_type": "code",
   "execution_count": 35,
   "metadata": {},
   "outputs": [
    {
     "data": {
      "image/png": "[encoded data removed]",
      "text/plain": [
       "<Figure size 1500x2500 with 14 Axes>"
      ]
     },
     "metadata": {},
     "output_type": "display_data"
    }
   ],
   "source": [
    "# Determine the number of columns in the DataFrame\n",
    "num_columns = len(X_train.columns.values)\n",
    "\n",
    "# Calculate the number of rows required for subplots\n",
    "num_rows = (num_columns + 2) // 3  # Add 2 to handle uneven number of columns\n",
    "\n",
    "# Set up the subplot grid\n",
    "fig, axes = plt.subplots(nrows=num_rows, ncols=3, figsize=(15, 5*num_rows))\n",
    "\n",
    "# Flatten the axes array\n",
    "axes = axes.flatten()\n",
    "\n",
    "# Plot boxplots for each column\n",
    "for i, column in enumerate(X_train.columns.values):\n",
    "    sns.boxplot(ax=axes[i], data=X_train, x = column, color='skyblue')\n",
    "    axes[i].set_title(column)\n",
    "    axes[i].set_xlabel('')\n",
    "\n",
    "# Remove empty subplots if present\n",
    "if num_columns < len(axes):\n",
    "    for j in range(num_columns, len(axes)):\n",
    "        fig.delaxes(axes[j])\n",
    "\n",
    "plt.tight_layout()\n",
    "plt.show()\n"
   ]
  },
  {
   "cell_type": "code",
   "execution_count": null,
   "metadata": {},
   "outputs": [],
   "source": []
  },
  {
   "cell_type": "markdown",
   "metadata": {},
   "source": [
    "4. Scale the data"
   ]
  },
  {
   "cell_type": "code",
   "execution_count": 37,
   "metadata": {},
   "outputs": [
    {
     "data": {
      "text/plain": [
       "array([[ 1.38919326, -1.25918898,  1.39185673, ..., -0.78128983,\n",
       "        -0.30653991, -0.89664506],\n",
       "       [ 0.07840603, -1.25918898,  1.99292846, ...,  0.64708236,\n",
       "         1.93871684,  0.56094407],\n",
       "       [-1.02457347,  1.18747125, -0.41135847, ..., -0.06710374,\n",
       "         0.441879  , -0.89664506],\n",
       "       ...,\n",
       "       [ 1.10374308,  0.5758062 ,  2.29346433, ...,  0.40902033,\n",
       "        -1.05495883, -1.0788437 ],\n",
       "       [-1.21867959,  1.43213728,  1.99292846, ...,  0.40902033,\n",
       "         0.19240603, -0.71444642],\n",
       "       [-0.39429947,  1.6768033 , -1.31296606, ...,  0.88514439,\n",
       "         1.68924387, -0.89664506]])"
      ]
     },
     "execution_count": 37,
     "metadata": {},
     "output_type": "execute_result"
    }
   ],
   "source": [
    "from sklearn.preprocessing import StandardScaler\n",
    "\n",
    "scalar = StandardScaler()\n",
    "scalar.fit(X_train)\n",
    "X_train_scaled = scalar.transform(X_train)\n",
    "\n",
    "X_train_scaled"
   ]
  },
  {
   "cell_type": "code",
   "execution_count": null,
   "metadata": {},
   "outputs": [],
   "source": []
  },
  {
   "cell_type": "markdown",
   "metadata": {},
   "source": [
    "5. Prepare the test dataset"
   ]
  },
  {
   "cell_type": "markdown",
   "metadata": {},
   "source": [
    "1. check for null values"
   ]
  },
  {
   "cell_type": "code",
   "execution_count": 40,
   "metadata": {},
   "outputs": [
    {
     "data": {
      "text/plain": [
       "0"
      ]
     },
     "execution_count": 40,
     "metadata": {},
     "output_type": "execute_result"
    }
   ],
   "source": [
    "X_test.isnull().sum().sum()"
   ]
  },
  {
   "cell_type": "markdown",
   "metadata": {},
   "source": [
    "2. scale the test data "
   ]
  },
  {
   "cell_type": "code",
   "execution_count": 41,
   "metadata": {},
   "outputs": [
    {
     "data": {
      "text/plain": [
       "array([[ 1.22477395,  1.18747125,  3.19507192, ...,  1.12320642,\n",
       "        -0.05706694,  0.37874543],\n",
       "       [ 1.70204665,  0.08647415, -1.0124302 , ...,  0.1709583 ,\n",
       "        -0.80548586,  0.56094407],\n",
       "       [-1.57263781, -0.64752392, -1.61350193, ...,  1.12320642,\n",
       "         1.93871684, -0.53224778],\n",
       "       ...,\n",
       "       [ 0.55111153, -0.89218995,  1.99292846, ..., -1.73353795,\n",
       "        -1.05495883, -0.89664506],\n",
       "       [ 1.55589616,  0.45347318, -1.0124302 , ..., -1.25741389,\n",
       "        -1.30443181,  0.92534135],\n",
       "       [-1.2346648 , -1.25918898,  0.18971327, ...,  1.36126845,\n",
       "         0.441879  , -0.35004914]])"
      ]
     },
     "execution_count": 41,
     "metadata": {},
     "output_type": "execute_result"
    }
   ],
   "source": [
    "X_test_scaled = scalar.transform(X_test)\n",
    "X_test_scaled"
   ]
  },
  {
   "cell_type": "code",
   "execution_count": null,
   "metadata": {},
   "outputs": [],
   "source": []
  },
  {
   "cell_type": "markdown",
   "metadata": {},
   "source": [
    "6. Choose the base model"
   ]
  },
  {
   "cell_type": "code",
   "execution_count": 45,
   "metadata": {},
   "outputs": [
    {
     "name": "stdout",
     "output_type": "stream",
     "text": [
      "Logistic Regression\n",
      "Confusion Matrix:\n",
      "[[98  2  0  0]\n",
      " [ 0 96  4  0]\n",
      " [ 0  2 94  4]\n",
      " [ 0  0  2 98]]\n",
      "Accuracy Score: 0.965\n",
      "Classification Report:\n",
      "              precision    recall  f1-score   support\n",
      "\n",
      "           0       1.00      0.98      0.99       100\n",
      "           1       0.96      0.96      0.96       100\n",
      "           2       0.94      0.94      0.94       100\n",
      "           3       0.96      0.98      0.97       100\n",
      "\n",
      "    accuracy                           0.96       400\n",
      "   macro avg       0.97      0.96      0.97       400\n",
      "weighted avg       0.97      0.96      0.97       400\n",
      "\n",
      "\n",
      "KNN\n",
      "Confusion Matrix:\n",
      "[[77 21  2  0]\n",
      " [22 51 25  2]\n",
      " [ 1 25 59 15]\n",
      " [ 0  1 27 72]]\n",
      "Accuracy Score: 0.6475\n",
      "Classification Report:\n",
      "              precision    recall  f1-score   support\n",
      "\n",
      "           0       0.77      0.77      0.77       100\n",
      "           1       0.52      0.51      0.52       100\n",
      "           2       0.52      0.59      0.55       100\n",
      "           3       0.81      0.72      0.76       100\n",
      "\n",
      "    accuracy                           0.65       400\n",
      "   macro avg       0.66      0.65      0.65       400\n",
      "weighted avg       0.66      0.65      0.65       400\n",
      "\n",
      "\n",
      "Tree\n",
      "Confusion Matrix:\n",
      "[[93  7  0  0]\n",
      " [ 9 78 13  0]\n",
      " [ 0 10 85  5]\n",
      " [ 0  0 17 83]]\n",
      "Accuracy Score: 0.8475\n",
      "Classification Report:\n",
      "              precision    recall  f1-score   support\n",
      "\n",
      "           0       0.91      0.93      0.92       100\n",
      "           1       0.82      0.78      0.80       100\n",
      "           2       0.74      0.85      0.79       100\n",
      "           3       0.94      0.83      0.88       100\n",
      "\n",
      "    accuracy                           0.85       400\n",
      "   macro avg       0.85      0.85      0.85       400\n",
      "weighted avg       0.85      0.85      0.85       400\n",
      "\n",
      "\n",
      "SVM\n",
      "Confusion Matrix:\n",
      "[[97  3  0  0]\n",
      " [ 3 91  6  0]\n",
      " [ 0  5 91  4]\n",
      " [ 0  0  5 95]]\n",
      "Accuracy Score: 0.935\n",
      "Classification Report:\n",
      "              precision    recall  f1-score   support\n",
      "\n",
      "           0       0.97      0.97      0.97       100\n",
      "           1       0.92      0.91      0.91       100\n",
      "           2       0.89      0.91      0.90       100\n",
      "           3       0.96      0.95      0.95       100\n",
      "\n",
      "    accuracy                           0.94       400\n",
      "   macro avg       0.94      0.94      0.94       400\n",
      "weighted avg       0.94      0.94      0.94       400\n",
      "\n",
      "\n"
     ]
    }
   ],
   "source": [
    "from sklearn.metrics import confusion_matrix, accuracy_score, classification_report\n",
    "\n",
    "from sklearn.linear_model import LogisticRegression\n",
    "from sklearn.neighbors import KNeighborsClassifier\n",
    "from sklearn.svm import SVC\n",
    "from sklearn.tree import DecisionTreeClassifier\n",
    "\n",
    "\n",
    "models = [\n",
    "    ('Logistic Regression', LogisticRegression(penalty='l2')),\n",
    "    ('KNN', KNeighborsClassifier(n_neighbors=40)),\n",
    "    ('Tree' ,DecisionTreeClassifier(random_state=42 , min_samples_split=10)),\n",
    "    ('SVM', SVC(gamma=0.01 , C = 1 , kernel='rbf'))\n",
    "]\n",
    "\n",
    "for name, model in models:\n",
    "    model.fit(X_train_scaled, y_train)\n",
    "    y_pred = model.predict(X_test_scaled)\n",
    "    \n",
    "    print(name)\n",
    "    print(\"Confusion Matrix:\")\n",
    "    print(confusion_matrix(y_test, y_pred))\n",
    "    print(\"Accuracy Score:\", accuracy_score(y_test, y_pred))\n",
    "    print(\"Classification Report:\")\n",
    "    print(classification_report(y_test, y_pred))\n",
    "    print()"
   ]
  },
  {
   "cell_type": "markdown",
   "metadata": {},
   "source": [
    "from above evalution we chooose LogisticRegression and SVC as our base models."
   ]
  },
  {
   "cell_type": "code",
   "execution_count": null,
   "metadata": {},
   "outputs": [],
   "source": []
  },
  {
   "cell_type": "markdown",
   "metadata": {},
   "source": [
    "7. Try Bagging and boosting algorithms"
   ]
  },
  {
   "cell_type": "code",
   "execution_count": 48,
   "metadata": {},
   "outputs": [
    {
     "name": "stdout",
     "output_type": "stream",
     "text": [
      "Collecting xgboost\n",
      "  Downloading xgboost-1.7.6-py3-none-win_amd64.whl (70.9 MB)\n",
      "     ---------------------------------------- 70.9/70.9 MB 3.0 MB/s eta 0:00:00\n",
      "Requirement already satisfied: scipy in c:\\users\\alvis\\anaconda3\\lib\\site-packages (from xgboost) (1.10.0)\n",
      "Requirement already satisfied: numpy in c:\\users\\alvis\\anaconda3\\lib\\site-packages (from xgboost) (1.23.5)\n",
      "Installing collected packages: xgboost\n",
      "Successfully installed xgboost-1.7.6\n"
     ]
    }
   ],
   "source": [
    "! pip install xgboost "
   ]
  },
  {
   "cell_type": "code",
   "execution_count": 50,
   "metadata": {},
   "outputs": [
    {
     "name": "stdout",
     "output_type": "stream",
     "text": [
      "RF\n",
      "Confusion Matrix:\n",
      "[[97  3  0  0]\n",
      " [ 4 87  9  0]\n",
      " [ 0 13 83  4]\n",
      " [ 0  0  5 95]]\n",
      "Accuracy Score: 0.905\n",
      "Classification Report:\n",
      "              precision    recall  f1-score   support\n",
      "\n",
      "           0       0.96      0.97      0.97       100\n",
      "           1       0.84      0.87      0.86       100\n",
      "           2       0.86      0.83      0.84       100\n",
      "           3       0.96      0.95      0.95       100\n",
      "\n",
      "    accuracy                           0.91       400\n",
      "   macro avg       0.91      0.91      0.90       400\n",
      "weighted avg       0.91      0.91      0.90       400\n",
      "\n",
      "\n",
      "ET\n",
      "Confusion Matrix:\n",
      "[[96  4  0  0]\n",
      " [ 7 85  8  0]\n",
      " [ 0 16 72 12]\n",
      " [ 0  0  3 97]]\n",
      "Accuracy Score: 0.875\n",
      "Classification Report:\n",
      "              precision    recall  f1-score   support\n",
      "\n",
      "           0       0.93      0.96      0.95       100\n",
      "           1       0.81      0.85      0.83       100\n",
      "           2       0.87      0.72      0.79       100\n",
      "           3       0.89      0.97      0.93       100\n",
      "\n",
      "    accuracy                           0.88       400\n",
      "   macro avg       0.87      0.88      0.87       400\n",
      "weighted avg       0.87      0.88      0.87       400\n",
      "\n",
      "\n",
      "Adaboost\n",
      "Confusion Matrix:\n",
      "[[39 61  0  0]\n",
      " [ 1 84 15  0]\n",
      " [ 0 17 83  0]\n",
      " [ 0  0 82 18]]\n",
      "Accuracy Score: 0.56\n",
      "Classification Report:\n",
      "              precision    recall  f1-score   support\n",
      "\n",
      "           0       0.97      0.39      0.56       100\n",
      "           1       0.52      0.84      0.64       100\n",
      "           2       0.46      0.83      0.59       100\n",
      "           3       1.00      0.18      0.31       100\n",
      "\n",
      "    accuracy                           0.56       400\n",
      "   macro avg       0.74      0.56      0.52       400\n",
      "weighted avg       0.74      0.56      0.52       400\n",
      "\n",
      "\n",
      "Gradient\n",
      "Confusion Matrix:\n",
      "[[98  2  0  0]\n",
      " [ 6 88  6  0]\n",
      " [ 0  8 87  5]\n",
      " [ 0  0  6 94]]\n",
      "Accuracy Score: 0.9175\n",
      "Classification Report:\n",
      "              precision    recall  f1-score   support\n",
      "\n",
      "           0       0.94      0.98      0.96       100\n",
      "           1       0.90      0.88      0.89       100\n",
      "           2       0.88      0.87      0.87       100\n",
      "           3       0.95      0.94      0.94       100\n",
      "\n",
      "    accuracy                           0.92       400\n",
      "   macro avg       0.92      0.92      0.92       400\n",
      "weighted avg       0.92      0.92      0.92       400\n",
      "\n",
      "\n",
      "Xgboost\n",
      "Confusion Matrix:\n",
      "[[99  1  0  0]\n",
      " [ 3 94  3  0]\n",
      " [ 0  6 90  4]\n",
      " [ 0  0  6 94]]\n",
      "Accuracy Score: 0.9425\n",
      "Classification Report:\n",
      "              precision    recall  f1-score   support\n",
      "\n",
      "           0       0.97      0.99      0.98       100\n",
      "           1       0.93      0.94      0.94       100\n",
      "           2       0.91      0.90      0.90       100\n",
      "           3       0.96      0.94      0.95       100\n",
      "\n",
      "    accuracy                           0.94       400\n",
      "   macro avg       0.94      0.94      0.94       400\n",
      "weighted avg       0.94      0.94      0.94       400\n",
      "\n",
      "\n"
     ]
    }
   ],
   "source": [
    "from sklearn.ensemble import RandomForestClassifier, ExtraTreesClassifier, AdaBoostClassifier, GradientBoostingClassifier\n",
    "from xgboost import XGBClassifier\n",
    "\n",
    "models = [\n",
    "    ('RF', RandomForestClassifier(random_state=42)),\n",
    "    ('ET', ExtraTreesClassifier(random_state=42)),\n",
    "    ('Adaboost' , AdaBoostClassifier(random_state=42)),\n",
    "    ('Gradient', GradientBoostingClassifier(random_state=42)),\n",
    "    ('Xgboost' , XGBClassifier()) \n",
    "]\n",
    "\n",
    "for name, model in models:\n",
    "    model.fit(X_train_scaled, y_train)\n",
    "    y_pred = model.predict(X_test_scaled)\n",
    "    \n",
    "    print(name)\n",
    "    print(\"Confusion Matrix:\")\n",
    "    print(confusion_matrix(y_test, y_pred))\n",
    "    print(\"Accuracy Score:\", accuracy_score(y_test, y_pred))\n",
    "    print(\"Classification Report:\")\n",
    "    print(classification_report(y_test, y_pred))\n",
    "    print()"
   ]
  },
  {
   "cell_type": "markdown",
   "metadata": {},
   "source": [
    "we choose XGboost for furhter tunning"
   ]
  },
  {
   "cell_type": "code",
   "execution_count": null,
   "metadata": {},
   "outputs": [],
   "source": []
  },
  {
   "cell_type": "markdown",
   "metadata": {},
   "source": [
    "from all the evaluation metrics we chose Logistic regression ,SVC and XGboost for Tunninng"
   ]
  },
  {
   "cell_type": "markdown",
   "metadata": {},
   "source": [
    "8. Tune the model and evaluate them"
   ]
  },
  {
   "cell_type": "code",
   "execution_count": 54,
   "metadata": {},
   "outputs": [],
   "source": [
    "logistic_param_grid = [    \n",
    "    {\n",
    "    'C': [0.1, 1.0, 10.0],  # Inverse of regularization strength\n",
    "    'penalty': ['l1', 'l2'],  # Regularization penalty\n",
    "    'solver': ['liblinear', 'saga']  # Algorithm to use in the optimization problem\n",
    "    }\n",
    "]\n",
    "\n",
    "svc_param_grid =[\n",
    "    {\n",
    "    'C': [0.1, 1.0, 10.0],  # Regularization parameter\n",
    "    'kernel': ['linear', 'rbf'],  # Kernel type\n",
    "    'gamma': ['scale', 'auto'],  # Kernel coefficient\n",
    "}\n",
    "]\n",
    "\n",
    "XGB_param_grid = [\n",
    "    {\n",
    "    'max_depth': [3, 5, 7],  # Maximum depth of each tree\n",
    "    'learning_rate': [0.1, 0.01, 0.001],  # Learning rate of the boosting process\n",
    "    'n_estimators': [100, 200, 300],  # Number of boosting iterations\n",
    "    'subsample': [0.8, 0.9, 1.0],  # Subsample ratio of the training instances\n",
    "    'colsample_bytree': [0.8, 0.9, 1.0],  # Subsample ratio of columns when constructing each tree\n",
    "}\n",
    "]\n",
    "\n",
    "\n",
    "names = (\n",
    "    'logistic',\n",
    "    'svc',\n",
    "    'XGB',\n",
    ")\n",
    "\n",
    "models = (\n",
    "    LogisticRegression(),\n",
    "    SVC(),\n",
    "    XGBClassifier(),\n",
    "\n",
    ")\n",
    "\n",
    "hyperparameter = (\n",
    "    logistic_param_grid,\n",
    "    svc_param_grid,\n",
    "    XGB_param_grid,\n",
    ")"
   ]
  },
  {
   "cell_type": "code",
   "execution_count": 55,
   "metadata": {},
   "outputs": [
    {
     "name": "stdout",
     "output_type": "stream",
     "text": [
      "logistic\n",
      "Best: 0.969792 using {'C': 1.0, 'penalty': 'l1', 'solver': 'saga'}\n",
      "\n",
      "svc\n",
      "Best: 0.962917 using {'C': 10.0, 'gamma': 'scale', 'kernel': 'linear'}\n",
      "\n",
      "XGB\n",
      "Best: 0.913542 using {'colsample_bytree': 1.0, 'learning_rate': 0.1, 'max_depth': 3, 'n_estimators': 300, 'subsample': 0.8}\n",
      "\n"
     ]
    }
   ],
   "source": [
    "from sklearn.model_selection import GridSearchCV ,RepeatedStratifiedKFold\n",
    "\n",
    "best_parm ={}\n",
    "for name , classifier ,param in zip(names,models,hyperparameter) :\n",
    "    \n",
    "    model = classifier\n",
    "    cv = RepeatedStratifiedKFold(n_splits=10, n_repeats=3,random_state=42)\n",
    "    grid_search = GridSearchCV(estimator=model, param_grid=param, n_jobs=-1, cv=cv, scoring='accuracy', error_score=0)\n",
    "    grid_result = grid_search.fit(X_train_scaled, y_train)\n",
    "\n",
    "    # summarize results\n",
    "    print(name)\n",
    "    print(\"Best: %f using %s\" % (grid_result.best_score_, grid_result.best_params_))\n",
    "    print()\n",
    "    \n",
    "    best_parm[name] = grid_result.best_params_\n",
    "    \n",
    "    \n",
    "    ##    print(\"%f (%f) with: %r\" % (mean, stdev, param))\n",
    "\n"
   ]
  },
  {
   "cell_type": "code",
   "execution_count": 58,
   "metadata": {},
   "outputs": [
    {
     "data": {
      "text/plain": [
       "{'logistic': {'C': 1.0, 'penalty': 'l1', 'solver': 'saga'},\n",
       " 'svc': {'C': 10.0, 'gamma': 'scale', 'kernel': 'linear'},\n",
       " 'XGB': {'colsample_bytree': 1.0,\n",
       "  'learning_rate': 0.1,\n",
       "  'max_depth': 3,\n",
       "  'n_estimators': 300,\n",
       "  'subsample': 0.8}}"
      ]
     },
     "execution_count": 58,
     "metadata": {},
     "output_type": "execute_result"
    }
   ],
   "source": [
    "best_parm"
   ]
  },
  {
   "cell_type": "markdown",
   "metadata": {},
   "source": [
    "from above evaluation we choose Logistic and SVC as our  final models."
   ]
  },
  {
   "cell_type": "code",
   "execution_count": 57,
   "metadata": {},
   "outputs": [
    {
     "name": "stdout",
     "output_type": "stream",
     "text": [
      "logistic\n",
      "Confusion Matrix:\n",
      "[[100   0   0   0]\n",
      " [  0  98   2   0]\n",
      " [  0   6  93   1]\n",
      " [  0   0   2  98]]\n",
      "Accuracy Score: 0.9725\n",
      "Classification Report:\n",
      "              precision    recall  f1-score   support\n",
      "\n",
      "           0       1.00      1.00      1.00       100\n",
      "           1       0.94      0.98      0.96       100\n",
      "           2       0.96      0.93      0.94       100\n",
      "           3       0.99      0.98      0.98       100\n",
      "\n",
      "    accuracy                           0.97       400\n",
      "   macro avg       0.97      0.97      0.97       400\n",
      "weighted avg       0.97      0.97      0.97       400\n",
      "\n",
      "\n",
      "svc\n",
      "Confusion Matrix:\n",
      "[[100   0   0   0]\n",
      " [  1  96   3   0]\n",
      " [  0   1  97   2]\n",
      " [  0   0   2  98]]\n",
      "Accuracy Score: 0.9775\n",
      "Classification Report:\n",
      "              precision    recall  f1-score   support\n",
      "\n",
      "           0       0.99      1.00      1.00       100\n",
      "           1       0.99      0.96      0.97       100\n",
      "           2       0.95      0.97      0.96       100\n",
      "           3       0.98      0.98      0.98       100\n",
      "\n",
      "    accuracy                           0.98       400\n",
      "   macro avg       0.98      0.98      0.98       400\n",
      "weighted avg       0.98      0.98      0.98       400\n",
      "\n",
      "\n"
     ]
    }
   ],
   "source": [
    "models = (\n",
    "    LogisticRegression(C= 0.1, penalty = 'l1', solver = 'saga'),\n",
    "    SVC(C = 10, gamma = 'scale' , kernel = 'linear'),\n",
    ")\n",
    "\n",
    "for name ,model in zip(names ,models) :\n",
    "    print(name)\n",
    "    model.fit(X_train_scaled,y_train)\n",
    "    y_pred = model.predict(X_test_scaled)\n",
    "    print(\"Confusion Matrix:\")\n",
    "    print(confusion_matrix(y_test, y_pred))\n",
    "    print(\"Accuracy Score:\", accuracy_score(y_test, y_pred))\n",
    "    print(\"Classification Report:\")\n",
    "    print(classification_report(y_test, y_pred))\n",
    "    print()"
   ]
  },
  {
   "cell_type": "code",
   "execution_count": null,
   "metadata": {},
   "outputs": [],
   "source": []
  },
  {
   "cell_type": "markdown",
   "metadata": {},
   "source": [
    "9. Votiing ensemble technique(optional)"
   ]
  },
  {
   "cell_type": "code",
   "execution_count": 59,
   "metadata": {},
   "outputs": [
    {
     "name": "stdout",
     "output_type": "stream",
     "text": [
      "Confusion Matrix:\n",
      "[[100   0   0   0]\n",
      " [  1  98   1   0]\n",
      " [  0   7  93   0]\n",
      " [  0   0   2  98]]\n",
      "Accuracy Score: 0.9725\n",
      "Classification Report:\n",
      "              precision    recall  f1-score   support\n",
      "\n",
      "           0       0.99      1.00      1.00       100\n",
      "           1       0.93      0.98      0.96       100\n",
      "           2       0.97      0.93      0.95       100\n",
      "           3       1.00      0.98      0.99       100\n",
      "\n",
      "    accuracy                           0.97       400\n",
      "   macro avg       0.97      0.97      0.97       400\n",
      "weighted avg       0.97      0.97      0.97       400\n",
      "\n"
     ]
    }
   ],
   "source": [
    "from sklearn.ensemble import VotingClassifier\n",
    "\n",
    "# Create individual models\n",
    "logistic_model = LogisticRegression(C= 0.1, penalty = 'l1', solver = 'saga')\n",
    "svc_model = SVC(C = 10, gamma = 'scale' , kernel = 'linear')\n",
    "\n",
    "# Create the voting classifier\n",
    "voting_classifier = VotingClassifier(\n",
    "    estimators=[('logistic', logistic_model), ('svc', svc_model)],\n",
    "    voting='hard'  # 'hard' for majority voting, 'soft' for weighted probabilities\n",
    ")\n",
    "\n",
    "# Fit the voting classifier on the training data\n",
    "voting_classifier.fit(X_train_scaled, y_train)\n",
    "\n",
    "# Make predictions using the voting classifier\n",
    "y_pred = voting_classifier.predict(X_test_scaled)\n",
    "\n",
    "# Evaluation\n",
    "print(\"Confusion Matrix:\")\n",
    "print(confusion_matrix(y_test, y_pred))\n",
    "print(\"Accuracy Score:\", accuracy_score(y_test, y_pred))\n",
    "print(\"Classification Report:\")\n",
    "print(classification_report(y_test, y_pred))"
   ]
  },
  {
   "cell_type": "code",
   "execution_count": null,
   "metadata": {},
   "outputs": [],
   "source": []
  },
  {
   "cell_type": "markdown",
   "metadata": {},
   "source": [
    "### CONCLUSSION : you can choose either SVC or LogisticRegression as final model with obtained best parameter ..or you can go with Voting classifer."
   ]
  },
  {
   "cell_type": "code",
   "execution_count": null,
   "metadata": {},
   "outputs": [],
   "source": []
  },
  {
   "cell_type": "markdown",
   "metadata": {},
   "source": [
    "# Thank You."
   ]
  }
 ],
 "metadata": {
  "kernelspec": {
   "display_name": "base",
   "language": "python",
   "name": "python3"
  },
  "language_info": {
   "codemirror_mode": {
    "name": "ipython",
    "version": 3
   },
   "file_extension": ".py",
   "mimetype": "text/x-python",
   "name": "python",
   "nbconvert_exporter": "python",
   "pygments_lexer": "ipython3",
   "version": "3.10.9"
  },
  "orig_nbformat": 4
 },
 "nbformat": 4,
 "nbformat_minor": 2
}
